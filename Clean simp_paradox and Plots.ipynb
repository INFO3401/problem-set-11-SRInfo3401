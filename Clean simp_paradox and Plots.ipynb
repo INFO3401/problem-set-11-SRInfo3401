{
 "cells": [
  {
   "cell_type": "markdown",
   "metadata": {},
   "source": [
    "### Problem Set 11(2 Weeks)\n",
    "#### Parts 2/3/4 Below"
   ]
  },
  {
   "cell_type": "code",
   "execution_count": 1,
   "metadata": {},
   "outputs": [],
   "source": [
    "import numpy as np\n",
    "import pandas as pd"
   ]
  },
  {
   "cell_type": "code",
   "execution_count": 18,
   "metadata": {
    "scrolled": true
   },
   "outputs": [
    {
     "data": {
      "text/html": [
       "<div>\n",
       "<style scoped>\n",
       "    .dataframe tbody tr th:only-of-type {\n",
       "        vertical-align: middle;\n",
       "    }\n",
       "\n",
       "    .dataframe tbody tr th {\n",
       "        vertical-align: top;\n",
       "    }\n",
       "\n",
       "    .dataframe thead th {\n",
       "        text-align: right;\n",
       "    }\n",
       "</style>\n",
       "<table border=\"1\" class=\"dataframe\">\n",
       "  <thead>\n",
       "    <tr style=\"text-align: right;\">\n",
       "      <th></th>\n",
       "      <th>Gender</th>\n",
       "      <th>Mean_Age</th>\n",
       "      <th>Admitted</th>\n",
       "      <th>Rejected</th>\n",
       "      <th>Department</th>\n",
       "    </tr>\n",
       "  </thead>\n",
       "  <tbody>\n",
       "    <tr>\n",
       "      <th>0</th>\n",
       "      <td>Female</td>\n",
       "      <td>25</td>\n",
       "      <td>89</td>\n",
       "      <td>19</td>\n",
       "      <td>A</td>\n",
       "    </tr>\n",
       "    <tr>\n",
       "      <th>1</th>\n",
       "      <td>Female</td>\n",
       "      <td>22</td>\n",
       "      <td>17</td>\n",
       "      <td>8</td>\n",
       "      <td>B</td>\n",
       "    </tr>\n",
       "    <tr>\n",
       "      <th>2</th>\n",
       "      <td>Female</td>\n",
       "      <td>24</td>\n",
       "      <td>202</td>\n",
       "      <td>391</td>\n",
       "      <td>C</td>\n",
       "    </tr>\n",
       "    <tr>\n",
       "      <th>3</th>\n",
       "      <td>Female</td>\n",
       "      <td>23</td>\n",
       "      <td>131</td>\n",
       "      <td>244</td>\n",
       "      <td>D</td>\n",
       "    </tr>\n",
       "    <tr>\n",
       "      <th>4</th>\n",
       "      <td>Female</td>\n",
       "      <td>24</td>\n",
       "      <td>94</td>\n",
       "      <td>299</td>\n",
       "      <td>E</td>\n",
       "    </tr>\n",
       "    <tr>\n",
       "      <th>5</th>\n",
       "      <td>Female</td>\n",
       "      <td>24</td>\n",
       "      <td>24</td>\n",
       "      <td>317</td>\n",
       "      <td>F</td>\n",
       "    </tr>\n",
       "    <tr>\n",
       "      <th>6</th>\n",
       "      <td>Male</td>\n",
       "      <td>22</td>\n",
       "      <td>512</td>\n",
       "      <td>313</td>\n",
       "      <td>A</td>\n",
       "    </tr>\n",
       "    <tr>\n",
       "      <th>7</th>\n",
       "      <td>Male</td>\n",
       "      <td>22</td>\n",
       "      <td>353</td>\n",
       "      <td>207</td>\n",
       "      <td>B</td>\n",
       "    </tr>\n",
       "    <tr>\n",
       "      <th>8</th>\n",
       "      <td>Male</td>\n",
       "      <td>23</td>\n",
       "      <td>120</td>\n",
       "      <td>205</td>\n",
       "      <td>C</td>\n",
       "    </tr>\n",
       "    <tr>\n",
       "      <th>9</th>\n",
       "      <td>Male</td>\n",
       "      <td>24</td>\n",
       "      <td>138</td>\n",
       "      <td>279</td>\n",
       "      <td>D</td>\n",
       "    </tr>\n",
       "    <tr>\n",
       "      <th>10</th>\n",
       "      <td>Male</td>\n",
       "      <td>22</td>\n",
       "      <td>53</td>\n",
       "      <td>138</td>\n",
       "      <td>E</td>\n",
       "    </tr>\n",
       "    <tr>\n",
       "      <th>11</th>\n",
       "      <td>Male</td>\n",
       "      <td>25</td>\n",
       "      <td>22</td>\n",
       "      <td>351</td>\n",
       "      <td>F</td>\n",
       "    </tr>\n",
       "  </tbody>\n",
       "</table>\n",
       "</div>"
      ],
      "text/plain": [
       "    Gender  Mean_Age  Admitted  Rejected Department\n",
       "0   Female        25        89        19          A\n",
       "1   Female        22        17         8          B\n",
       "2   Female        24       202       391          C\n",
       "3   Female        23       131       244          D\n",
       "4   Female        24        94       299          E\n",
       "5   Female        24        24       317          F\n",
       "6     Male        22       512       313          A\n",
       "7     Male        22       353       207          B\n",
       "8    Male         23       120       205          C\n",
       "9    Male         24       138       279          D\n",
       "10   Male         22        53       138          E\n",
       "11   Male         25        22       351          F"
      ]
     },
     "execution_count": 18,
     "metadata": {},
     "output_type": "execute_result"
    }
   ],
   "source": [
    "df_inspect = pd.read_csv('simpsons_paradox.csv')\n",
    "df_inspect"
   ]
  },
  {
   "cell_type": "code",
   "execution_count": 39,
   "metadata": {
    "scrolled": true
   },
   "outputs": [
    {
     "data": {
      "text/html": [
       "<div>\n",
       "<style scoped>\n",
       "    .dataframe tbody tr th:only-of-type {\n",
       "        vertical-align: middle;\n",
       "    }\n",
       "\n",
       "    .dataframe tbody tr th {\n",
       "        vertical-align: top;\n",
       "    }\n",
       "\n",
       "    .dataframe thead th {\n",
       "        text-align: right;\n",
       "    }\n",
       "</style>\n",
       "<table border=\"1\" class=\"dataframe\">\n",
       "  <thead>\n",
       "    <tr style=\"text-align: right;\">\n",
       "      <th></th>\n",
       "      <th>Gender</th>\n",
       "      <th>Mean_Age</th>\n",
       "      <th>Admitted</th>\n",
       "      <th>Rejected</th>\n",
       "      <th>Department</th>\n",
       "      <th>Total_Applicants</th>\n",
       "      <th>Acceptance_Rate</th>\n",
       "      <th>Rejection_Rate</th>\n",
       "    </tr>\n",
       "  </thead>\n",
       "  <tbody>\n",
       "    <tr>\n",
       "      <th>0</th>\n",
       "      <td>Female</td>\n",
       "      <td>25</td>\n",
       "      <td>89</td>\n",
       "      <td>19</td>\n",
       "      <td>A</td>\n",
       "      <td>108</td>\n",
       "      <td>0.824074</td>\n",
       "      <td>0.175926</td>\n",
       "    </tr>\n",
       "    <tr>\n",
       "      <th>1</th>\n",
       "      <td>Female</td>\n",
       "      <td>22</td>\n",
       "      <td>17</td>\n",
       "      <td>8</td>\n",
       "      <td>B</td>\n",
       "      <td>25</td>\n",
       "      <td>0.680000</td>\n",
       "      <td>0.320000</td>\n",
       "    </tr>\n",
       "    <tr>\n",
       "      <th>2</th>\n",
       "      <td>Female</td>\n",
       "      <td>24</td>\n",
       "      <td>202</td>\n",
       "      <td>391</td>\n",
       "      <td>C</td>\n",
       "      <td>593</td>\n",
       "      <td>0.340641</td>\n",
       "      <td>0.659359</td>\n",
       "    </tr>\n",
       "    <tr>\n",
       "      <th>3</th>\n",
       "      <td>Female</td>\n",
       "      <td>23</td>\n",
       "      <td>131</td>\n",
       "      <td>244</td>\n",
       "      <td>D</td>\n",
       "      <td>375</td>\n",
       "      <td>0.349333</td>\n",
       "      <td>0.650667</td>\n",
       "    </tr>\n",
       "    <tr>\n",
       "      <th>4</th>\n",
       "      <td>Female</td>\n",
       "      <td>24</td>\n",
       "      <td>94</td>\n",
       "      <td>299</td>\n",
       "      <td>E</td>\n",
       "      <td>393</td>\n",
       "      <td>0.239186</td>\n",
       "      <td>0.760814</td>\n",
       "    </tr>\n",
       "    <tr>\n",
       "      <th>5</th>\n",
       "      <td>Female</td>\n",
       "      <td>24</td>\n",
       "      <td>24</td>\n",
       "      <td>317</td>\n",
       "      <td>F</td>\n",
       "      <td>341</td>\n",
       "      <td>0.070381</td>\n",
       "      <td>0.929619</td>\n",
       "    </tr>\n",
       "    <tr>\n",
       "      <th>6</th>\n",
       "      <td>Male</td>\n",
       "      <td>22</td>\n",
       "      <td>512</td>\n",
       "      <td>313</td>\n",
       "      <td>A</td>\n",
       "      <td>825</td>\n",
       "      <td>0.620606</td>\n",
       "      <td>0.379394</td>\n",
       "    </tr>\n",
       "    <tr>\n",
       "      <th>7</th>\n",
       "      <td>Male</td>\n",
       "      <td>22</td>\n",
       "      <td>353</td>\n",
       "      <td>207</td>\n",
       "      <td>B</td>\n",
       "      <td>560</td>\n",
       "      <td>0.630357</td>\n",
       "      <td>0.369643</td>\n",
       "    </tr>\n",
       "    <tr>\n",
       "      <th>8</th>\n",
       "      <td>Male</td>\n",
       "      <td>23</td>\n",
       "      <td>120</td>\n",
       "      <td>205</td>\n",
       "      <td>C</td>\n",
       "      <td>325</td>\n",
       "      <td>0.369231</td>\n",
       "      <td>0.630769</td>\n",
       "    </tr>\n",
       "    <tr>\n",
       "      <th>9</th>\n",
       "      <td>Male</td>\n",
       "      <td>24</td>\n",
       "      <td>138</td>\n",
       "      <td>279</td>\n",
       "      <td>D</td>\n",
       "      <td>417</td>\n",
       "      <td>0.330935</td>\n",
       "      <td>0.669065</td>\n",
       "    </tr>\n",
       "    <tr>\n",
       "      <th>10</th>\n",
       "      <td>Male</td>\n",
       "      <td>22</td>\n",
       "      <td>53</td>\n",
       "      <td>138</td>\n",
       "      <td>E</td>\n",
       "      <td>191</td>\n",
       "      <td>0.277487</td>\n",
       "      <td>0.722513</td>\n",
       "    </tr>\n",
       "    <tr>\n",
       "      <th>11</th>\n",
       "      <td>Male</td>\n",
       "      <td>25</td>\n",
       "      <td>22</td>\n",
       "      <td>351</td>\n",
       "      <td>F</td>\n",
       "      <td>373</td>\n",
       "      <td>0.058981</td>\n",
       "      <td>0.941019</td>\n",
       "    </tr>\n",
       "  </tbody>\n",
       "</table>\n",
       "</div>"
      ],
      "text/plain": [
       "    Gender  Mean_Age  Admitted  Rejected Department  Total_Applicants  \\\n",
       "0   Female        25        89        19          A               108   \n",
       "1   Female        22        17         8          B                25   \n",
       "2   Female        24       202       391          C               593   \n",
       "3   Female        23       131       244          D               375   \n",
       "4   Female        24        94       299          E               393   \n",
       "5   Female        24        24       317          F               341   \n",
       "6     Male        22       512       313          A               825   \n",
       "7     Male        22       353       207          B               560   \n",
       "8    Male         23       120       205          C               325   \n",
       "9    Male         24       138       279          D               417   \n",
       "10   Male         22        53       138          E               191   \n",
       "11   Male         25        22       351          F               373   \n",
       "\n",
       "    Acceptance_Rate  Rejection_Rate  \n",
       "0          0.824074        0.175926  \n",
       "1          0.680000        0.320000  \n",
       "2          0.340641        0.659359  \n",
       "3          0.349333        0.650667  \n",
       "4          0.239186        0.760814  \n",
       "5          0.070381        0.929619  \n",
       "6          0.620606        0.379394  \n",
       "7          0.630357        0.369643  \n",
       "8          0.369231        0.630769  \n",
       "9          0.330935        0.669065  \n",
       "10         0.277487        0.722513  \n",
       "11         0.058981        0.941019  "
      ]
     },
     "execution_count": 39,
     "metadata": {},
     "output_type": "execute_result"
    }
   ],
   "source": [
    "df_inspect['Total_Applicants'] = df_inspect['Admitted'] + df_inspect['Rejected']\n",
    "df_inspect['Acceptance_Rate'] = df_inspect['Admitted']/df_inspect['Total_Applicants']\n",
    "df_inspect['Rejection_Rate'] = df_inspect['Rejected']/df_inspect['Total_Applicants']\n",
    "df_inspect"
   ]
  },
  {
   "cell_type": "markdown",
   "metadata": {},
   "source": [
    "### MONDAY (11.26) Question 4\n",
    "4.The data also represents an example of Simpson's Paradox. Use whatever visualization tools you'd like to illustrate the two possible perspectives. Make sure to include a screenshot of each and explain the perspective shown in each.\n",
    "\n",
    "#### (4 Answer) Below the visual plots"
   ]
  },
  {
   "cell_type": "code",
   "execution_count": 67,
   "metadata": {
    "scrolled": false
   },
   "outputs": [
    {
     "data": {
      "image/png": "[encoded data removed]",
      "text/plain": [
       "<matplotlib.figure.Figure at 0x1169fdc50>"
      ]
     },
     "metadata": {
      "needs_background": "light"
     },
     "output_type": "display_data"
    }
   ],
   "source": [
    "import matplotlib.pyplot as plt\n",
    "x = df_inspect.set_index('Department')[['Admitted']].plot.bar(color='green')\n",
    "plt.xlabel('Department (A-F:1=FEMALE  |  A-F:2=MALE)', fontsize=13)\n",
    "plt.ylabel('Number of Applicants', fontsize=13)\n",
    "plt.title('Distribution of Admitted Male or Female Applicants Per Department', fontsize=20)\n",
    "plt.show()"
   ]
  },
  {
   "cell_type": "code",
   "execution_count": 63,
   "metadata": {},
   "outputs": [
    {
     "data": {
      "image/png": "[encoded data removed]",
      "text/plain": [
       "<matplotlib.figure.Figure at 0x11732aef0>"
      ]
     },
     "metadata": {
      "needs_background": "light"
     },
     "output_type": "display_data"
    }
   ],
   "source": [
    "import matplotlib.pyplot as plt\n",
    "df_inspect.set_index('Department')[['Rejected']].plot.bar(color='red')\n",
    "plt.xlabel('Departments(A-F:1=FEMALE| A-F:2=MALE)', fontsize=13)\n",
    "plt.ylabel('Number of Applicants', fontsize=13)\n",
    "plt.title('Distribution of Rejected Male or Female Applicants Per Department', fontsize=20)\n",
    "plt.show()"
   ]
  },
  {
   "cell_type": "markdown",
   "metadata": {},
   "source": [
    "### (4 Answer)explain the perspective shown\n",
    "In the fisrt visualization displaying the number of admitted Female or Male applicants across departments we can see where the most variatoin happenes. For example we can conclude that departments F, and E must be the harder ones to get admitted into by their low bar heights. Further more it is clear that department F has the lowest admittance rate across both female and male applicants. Department E had a few more female acceptances over males whereas D was the opposite. Department C had a larger acceptance variation between female and male where more females were admitted, but only by around 90 applicants. What was suprising to see here is departments A, and B have a massive difference between female and male admitted. Both departments A and B had very low females accepted below 100, and 50. The drastic increse is supported by departments A and B having the overall highest admittance across all the data. Male acceptance in department A had the #1 higest admittance count around 500, in comparision to about 100 females. Department B admitted around 450 males but only around 30 females. Based on this you would percieve there is a sexist bias giving advantage to male applicants for departments A and B but there is not enough evidence in this plot to prove other possible variables leading to the fluctuations in results.\n",
    "\n",
    "The second vidualization is displaying the number of rejected Female or Male applicants across departments. After analyzing the accepted plot we can see some interesting new findings between the two. In the rejected plot we can disprove the ideas of sexist bias in departments A and B due to the low amount of female's rejected and a much larger amount of males rejected. This data now proves that the amout of feamle and male applicants to those specific departments were just drastically different, no bias in sex. Other evidence in the rejected visulization supports that there is no bias in department F due to its second highest count, it must just be hard to get accepted into. Department C had the highest count of rejected female's showing that C must be a department that attracts alot of female applicants. The final departments D and E didnt have any substancial variations, they were relativly consistnat in both female or male admitted and rejected applicants. One thing that stuck out in department E's rejection plot was the lower amount of females rejected comparted to males. Overall I think these changes are happening due to the volume of applicants and the deparments offering attrating differnet sex, not due to sexist admissions bias per department."
   ]
  },
  {
   "cell_type": "code",
   "execution_count": 64,
   "metadata": {
    "scrolled": true
   },
   "outputs": [
    {
     "data": {
      "image/png": "[encoded data removed]",
      "text/plain": [
       "<matplotlib.figure.Figure at 0x1175f1be0>"
      ]
     },
     "metadata": {
      "needs_background": "light"
     },
     "output_type": "display_data"
    }
   ],
   "source": [
    "#Combined Chart(Admitted and Rejected)\n",
    "import matplotlib.pyplot as plt\n",
    "df_inspect.set_index('Department')[['Admitted', 'Rejected','Total_Applicants']].plot.bar()\n",
    "plt.xlabel('Departments(A-F:1=FEMALE| A-F:2=MALE)', fontsize=13)\n",
    "plt.ylabel('Number of Applicants', fontsize=13)\n",
    "plt.title('Distribution of Admitted and Rejected Male or Female Applicants Per Department', fontsize=20)\n",
    "plt.show()"
   ]
  }
 ],
 "metadata": {
  "kernelspec": {
   "display_name": "Python 3",
   "language": "python",
   "name": "python3"
  },
  "language_info": {
   "codemirror_mode": {
    "name": "ipython",
    "version": 3
   },
   "file_extension": ".py",
   "mimetype": "text/x-python",
   "name": "python",
   "nbconvert_exporter": "python",
   "pygments_lexer": "ipython3",
   "version": "3.6.3"
  }
 },
 "nbformat": 4,
 "nbformat_minor": 2
}
